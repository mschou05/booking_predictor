{
 "cells": [
  {
   "cell_type": "markdown",
   "metadata": {},
   "source": [
    "## Sections:\n",
    "* Data import and clean \n",
    "* AB test view\n",
    "* Booking prediction model\n",
    "* Appendix - Exploratory Analysis"
   ]
  },
  {
   "cell_type": "code",
   "execution_count": 1,
   "metadata": {
    "collapsed": false
   },
   "outputs": [],
   "source": [
    "import pandas as pd\n",
    "import numpy as np\n",
    "from sklearn.model_selection import train_test_split\n",
    "from sklearn.utils import shuffle\n",
    "from sklearn.metrics import confusion_matrix as cm,roc_curve,auc\n",
    "from sklearn.preprocessing import FunctionTransformer,PolynomialFeatures, OneHotEncoder, StandardScaler\n",
    "from sklearn.pipeline import Pipeline\n",
    "from sklearn.ensemble import RandomForestClassifier\n",
    "from sklearn.linear_model import LogisticRegression\n",
    "from datetime import timedelta\n",
    "\n",
    "%matplotlib inline\n",
    "import matplotlib.pyplot as plt"
   ]
  },
  {
   "cell_type": "code",
   "execution_count": 2,
   "metadata": {
    "collapsed": true
   },
   "outputs": [],
   "source": [
    "#helper function for plotting roc\n",
    "\n",
    "def plot_roc(y,y_hat,title_=''):    \n",
    "    fpr, tpr, thresholds = roc_curve(y,y_hat)\n",
    "    roc_auc = auc(fpr, tpr)\n",
    "    lw = 2\n",
    "    plt.plot(fpr, tpr, color='darkorange',\n",
    "             lw=lw,label='ROC curve (area = %0.2f)' % roc_auc)\n",
    "    plt.plot([0, 1], [0, 1], color='navy', lw=lw, linestyle='--')\n",
    "    plt.xlim([0.0, 1.0])\n",
    "    plt.ylim([0.0, 1.05])\n",
    "    plt.xlabel('False Positive Rate')\n",
    "    plt.ylabel('True Positive Rate')\n",
    "    plt.title('Receiver operating characteristic '+ title_)\n",
    "    plt.legend(loc=\"lower right\")\n",
    "    plt.show()"
   ]
  },
  {
   "cell_type": "markdown",
   "metadata": {},
   "source": [
    "## Import data\n",
    "* do some conversions\n",
    "* identify members of control, treatment"
   ]
  },
  {
   "cell_type": "code",
   "execution_count": 3,
   "metadata": {
    "collapsed": false
   },
   "outputs": [],
   "source": [
    "# import data\n",
    "users_raw = pd.read_csv('data/users.csv',header=0)\n",
    "listings_raw =pd.read_csv('data/listings.csv',header=0)\n",
    "contacts_raw =pd.read_csv('data/contacts.csv',header=0,date_parser = True)\n",
    "assignments_raw = pd.read_csv('data/assignments.csv',header=0)#.set_index('id_user_anon')\n",
    "\n"
   ]
  },
  {
   "cell_type": "code",
   "execution_count": 4,
   "metadata": {
    "collapsed": false,
    "scrolled": true
   },
   "outputs": [],
   "source": [
    "# convert to datetimes\n",
    "ts_cols = [i for i in contacts_raw if (i[:2]=='ts')]\n",
    "ds_cols = [i for i in contacts_raw if i[:2]=='ds']\n",
    "\n",
    "for i in ts_cols+ds_cols:\n",
    "    contacts_raw[i]=pd.to_datetime(contacts_raw[i], errors='coerce')\n",
    "\n",
    "users_raw['ts_first_verified']=pd.to_datetime(users_raw.ts_first_verified,errors='coerce')"
   ]
  },
  {
   "cell_type": "code",
   "execution_count": 5,
   "metadata": {
    "collapsed": false
   },
   "outputs": [
    {
     "name": "stdout",
     "output_type": "stream",
     "text": [
      "id_guest_anon unique entries in contacts: 25209\n",
      "id_host_anon unique entries in contacts: 3467\n",
      "id_listing_anon unique entries in contacts: 5215\n"
     ]
    }
   ],
   "source": [
    "# check # of unique user, host, listing contacts\n",
    "for col in ['id_guest_anon','id_host_anon','id_listing_anon']:\n",
    "    print col +' unique entries in contacts: '+ str(contacts_raw[col].nunique())\n",
    "\n",
    "\n"
   ]
  },
  {
   "cell_type": "code",
   "execution_count": 6,
   "metadata": {
    "collapsed": false
   },
   "outputs": [
    {
     "data": {
      "text/html": [
       "<div>\n",
       "<table border=\"1\" class=\"dataframe\">\n",
       "  <thead>\n",
       "    <tr style=\"text-align: right;\">\n",
       "      <th></th>\n",
       "      <th>id_user_anon</th>\n",
       "    </tr>\n",
       "    <tr>\n",
       "      <th>ab</th>\n",
       "      <th></th>\n",
       "    </tr>\n",
       "  </thead>\n",
       "  <tbody>\n",
       "    <tr>\n",
       "      <th>control</th>\n",
       "      <td>7909</td>\n",
       "    </tr>\n",
       "    <tr>\n",
       "      <th>treatment</th>\n",
       "      <td>7849</td>\n",
       "    </tr>\n",
       "  </tbody>\n",
       "</table>\n",
       "</div>"
      ],
      "text/plain": [
       "           id_user_anon\n",
       "ab                     \n",
       "control            7909\n",
       "treatment          7849"
      ]
     },
     "execution_count": 6,
     "metadata": {},
     "output_type": "execute_result"
    }
   ],
   "source": [
    "# clean up ab table: if user is assigned to more than one group, do not include\n",
    "assignments = assignments_raw.groupby('id_user_anon').filter(lambda x: len(x)==1)##x.ab.nunique()==1)\n",
    "assignments.groupby('ab').count()\n"
   ]
  },
  {
   "cell_type": "code",
   "execution_count": 7,
   "metadata": {
    "collapsed": false
   },
   "outputs": [],
   "source": [
    "#add treatment, control to contacts\n",
    "contacts = pd.merge(contacts_raw, assignments,left_on= 'id_guest_anon',right_on='id_user_anon')\n",
    "\n",
    "#remove instant book\n",
    "contacts = contacts[contacts.dim_contact_channel_first!='instant_booked']\n",
    "\n",
    "\n"
   ]
  },
  {
   "cell_type": "markdown",
   "metadata": {},
   "source": [
    "## Q1 Define success, see if difference between control, treatment"
   ]
  },
  {
   "cell_type": "code",
   "execution_count": 8,
   "metadata": {
    "collapsed": false
   },
   "outputs": [],
   "source": [
    "# define success\n",
    "contacts[\"is_booked\"] = ((contacts.ts_booking_at-contacts.ts_interaction_first)<timedelta(days=30))*1.0\n",
    "contacts[\"accepted\"]=((contacts.ts_accepted_at_first-contacts.ts_interaction_first)<timedelta(days=30))*1.0\n",
    "\n",
    "# per user\n",
    "#user_level = contacts[['id_guest_anon','ab','is_booked']].groupby(['id_guest_anon','ab']).agg(np.max).reset_index()"
   ]
  },
  {
   "cell_type": "code",
   "execution_count": 9,
   "metadata": {
    "collapsed": false
   },
   "outputs": [
    {
     "data": {
      "text/html": [
       "<div>\n",
       "<table border=\"1\" class=\"dataframe\">\n",
       "  <thead>\n",
       "    <tr>\n",
       "      <th></th>\n",
       "      <th colspan=\"3\" halign=\"left\">is_booked</th>\n",
       "      <th colspan=\"3\" halign=\"left\">accepted</th>\n",
       "    </tr>\n",
       "    <tr>\n",
       "      <th></th>\n",
       "      <th>avg</th>\n",
       "      <th>stderr</th>\n",
       "      <th>n</th>\n",
       "      <th>avg</th>\n",
       "      <th>stderr</th>\n",
       "      <th>n</th>\n",
       "    </tr>\n",
       "    <tr>\n",
       "      <th>ab</th>\n",
       "      <th></th>\n",
       "      <th></th>\n",
       "      <th></th>\n",
       "      <th></th>\n",
       "      <th></th>\n",
       "      <th></th>\n",
       "    </tr>\n",
       "  </thead>\n",
       "  <tbody>\n",
       "    <tr>\n",
       "      <th>control</th>\n",
       "      <td>0.458187</td>\n",
       "      <td>0.005796</td>\n",
       "      <td>7390</td>\n",
       "      <td>0.603383</td>\n",
       "      <td>0.005691</td>\n",
       "      <td>7390</td>\n",
       "    </tr>\n",
       "    <tr>\n",
       "      <th>treatment</th>\n",
       "      <td>0.457826</td>\n",
       "      <td>0.005792</td>\n",
       "      <td>7398</td>\n",
       "      <td>0.600297</td>\n",
       "      <td>0.005695</td>\n",
       "      <td>7398</td>\n",
       "    </tr>\n",
       "  </tbody>\n",
       "</table>\n",
       "</div>"
      ],
      "text/plain": [
       "          is_booked                  accepted                \n",
       "                avg    stderr     n       avg    stderr     n\n",
       "ab                                                           \n",
       "control    0.458187  0.005796  7390  0.603383  0.005691  7390\n",
       "treatment  0.457826  0.005792  7398  0.600297  0.005695  7398"
      ]
     },
     "execution_count": 9,
     "metadata": {},
     "output_type": "execute_result"
    }
   ],
   "source": [
    "# success in group treatment v control\n",
    "basic_stats = {'avg':np.mean,\n",
    "              'n':'count',\n",
    "               'stderr':lambda x: np.std(x)/(len(x)**.5)\n",
    "               }\n",
    "aggregation = {'is_booked':basic_stats,'accepted':basic_stats}\n",
    "\n",
    "contacts.groupby('ab').agg(aggregation)"
   ]
  },
  {
   "cell_type": "code",
   "execution_count": 10,
   "metadata": {
    "collapsed": false
   },
   "outputs": [
    {
     "data": {
      "text/html": [
       "<div>\n",
       "<table border=\"1\" class=\"dataframe\">\n",
       "  <thead>\n",
       "    <tr>\n",
       "      <th></th>\n",
       "      <th colspan=\"3\" halign=\"left\">is_booked</th>\n",
       "      <th colspan=\"3\" halign=\"left\">accepted</th>\n",
       "    </tr>\n",
       "    <tr>\n",
       "      <th></th>\n",
       "      <th>avg</th>\n",
       "      <th>stderr</th>\n",
       "      <th>n</th>\n",
       "      <th>avg</th>\n",
       "      <th>stderr</th>\n",
       "      <th>n</th>\n",
       "    </tr>\n",
       "    <tr>\n",
       "      <th>ab</th>\n",
       "      <th></th>\n",
       "      <th></th>\n",
       "      <th></th>\n",
       "      <th></th>\n",
       "      <th></th>\n",
       "      <th></th>\n",
       "    </tr>\n",
       "  </thead>\n",
       "  <tbody>\n",
       "    <tr>\n",
       "      <th>control</th>\n",
       "      <td>0.469037</td>\n",
       "      <td>0.011950</td>\n",
       "      <td>1744</td>\n",
       "      <td>0.607225</td>\n",
       "      <td>0.011694</td>\n",
       "      <td>1744</td>\n",
       "    </tr>\n",
       "    <tr>\n",
       "      <th>treatment</th>\n",
       "      <td>0.627596</td>\n",
       "      <td>0.018622</td>\n",
       "      <td>674</td>\n",
       "      <td>0.722552</td>\n",
       "      <td>0.017246</td>\n",
       "      <td>674</td>\n",
       "    </tr>\n",
       "  </tbody>\n",
       "</table>\n",
       "</div>"
      ],
      "text/plain": [
       "          is_booked                  accepted                \n",
       "                avg    stderr     n       avg    stderr     n\n",
       "ab                                                           \n",
       "control    0.469037  0.011950  1744  0.607225  0.011694  1744\n",
       "treatment  0.627596  0.018622   674  0.722552  0.017246   674"
      ]
     },
     "execution_count": 10,
     "metadata": {},
     "output_type": "execute_result"
    }
   ],
   "source": [
    "# there are messages with len<140 in the treatment group, this should not be\n",
    "contacts[contacts.m_first_message_length_in_characters<140].groupby('ab').agg(aggregation)"
   ]
  },
  {
   "cell_type": "markdown",
   "metadata": {},
   "source": [
    "## Q2 build model to predict successful booking\n",
    "* construct helper tables, transform function\n",
    "* test, fit LR model"
   ]
  },
  {
   "cell_type": "code",
   "execution_count": 11,
   "metadata": {
    "collapsed": false
   },
   "outputs": [],
   "source": [
    "# take successful to mean trip booked by user, trip defined as anon_id&checkout&checkin are unique\n",
    "\n",
    "\n",
    "\n",
    "raw_df =contacts_raw\n",
    "# create trips table, mapping onto listings, hosts, dropping instant books since they ==1 by definition\n",
    "# the purpose of this table is to determine if a user is sending out multiple messages for the same trip simultaneously\n",
    "trips = pd.merge(raw_df,listings_raw,on = 'id_listing_anon')\n",
    "trips = pd.merge(trips,users_raw,left_on='id_guest_anon',right_on='id_user_anon')\n",
    "trips = pd.merge(trips,users_raw,left_on='id_host_anon',right_on='id_user_anon')\n",
    "trips['ds_interaction_first']=trips.ts_interaction_first.dt.date\n",
    "trips=trips[trips.dim_contact_channel_first!='instant_booked']\n",
    "trips['accepted'] = ((trips.ts_accepted_at_first-trips.ts_interaction_first)<timedelta(days =30))*1.0\n",
    "\n",
    "\n",
    "# create trips table, break into train,test\n",
    "y =((trips.ts_booking_at-trips.ts_interaction_first)<timedelta(days =30))*1.0\n",
    "x_train,x_test,y_train,y_test = train_test_split(trips,y, test_size=0.2, random_state=777)\n"
   ]
  },
  {
   "cell_type": "code",
   "execution_count": 12,
   "metadata": {
    "collapsed": false
   },
   "outputs": [],
   "source": [
    "# build acceptance rate table from training set\n",
    "# this will be used to normalize for listing and time of year acceptance rates (alternatively use oneHotEncoder)\n",
    "\n",
    "mu = np.mean(x_train.accepted)\n",
    "\n",
    "def normalize_acceptance(x):\n",
    "    return (np.sum(x)+10*mu)/(10+len(x))-mu\n",
    "\n",
    "accepted_deviance_by_listing = x_train.groupby('id_listing_anon').agg({'accepted':normalize_acceptance}).reset_index()\n",
    "accepted_deviance_by_listing.columns = ['id_listing_anon','listing_deviance']\n",
    "accepted_deviance_by_listing.describe()\n",
    "\n",
    "accepted_deviance_by_toy = x_train.groupby(x_train['ds_checkin_first'].dt.month).\\\n",
    "            agg({'accepted':normalize_acceptance}).reset_index()\n",
    "accepted_deviance_by_toy.columns=['int_month_booking','time_deviance']"
   ]
  },
  {
   "cell_type": "code",
   "execution_count": 13,
   "metadata": {
    "collapsed": false,
    "scrolled": false
   },
   "outputs": [],
   "source": [
    "# transformations to construct features\n",
    "\n",
    "#features: time of year (month of booking, categorical)\n",
    "#   verified\n",
    "#   2 hosts contacted, >3; is this not the first host contacted for that date?\n",
    "#   normalized length of message (log?)\n",
    "#   speaks english, is american, is canadian, other countries\n",
    "#   type of booking\n",
    "#   type of reservation/room_type\n",
    "#  dim_person_capacity\n",
    "#   # of ppl on booking\n",
    "#   capacaity v ppl on booking\n",
    "#   dim_total_reviews--> log, normalize, is_0\n",
    "#   m_guests_first, m_interactions\n",
    "# no bathrooms\n",
    "# len of stay\n",
    "# time of day of initial \n",
    "# cross terms\n",
    "\n",
    "\n",
    "# check to see if user is doing multiple bookings, this will help normalize for lower booking rate\n",
    "# among multi-booker. this data must be extracted from training set, or data available at or near time \n",
    "# of booking\n",
    "trip_id = ['id_guest_anon','ds_interaction_first','ds_checkin_first']\n",
    "trip_counter =pd.merge(x_train,x_train,how='left',\n",
    "            on=trip_id).groupby(trip_id).count().reset_index()\n",
    "trip_counter=trip_counter[trip_id+['id_host_anon_x']]\n",
    "trip_counter.columns=[trip_id+['num_reqs_sent']]\n",
    "\n",
    "# create categories\n",
    "def transform_(df):\n",
    "    df['int_month_booking']=df.ds_checkin_first.dt.month\n",
    "    df= pd.merge(df,trip_counter,on=trip_id,how='left')\n",
    "    df= pd.merge(df,accepted_deviance_by_listing,on='id_listing_anon',how='left')\n",
    "    df= pd.merge(df,accepted_deviance_by_toy,on='int_month_booking',how='left')\n",
    "    \n",
    "    # booleans: types of bookings, matchings\n",
    "    df['bool_book_it']=1.0*(df.dim_contact_channel_first=='book_it')\n",
    "    df['bool_match_language']= 1.0*(df.dim_language_x==df.dim_language_y)\n",
    "    df['bool_match_country']=1.0*(df.dim_country_x==df.dim_country_y)\n",
    "    df['bool_last_min']=1.0*((df.ds_checkin_first-df.ts_interaction_first)<timedelta(days =7))\n",
    "    df['bool_home']=(df.dim_room_type== 'Entire home/apt')*1.0\n",
    "    df['bool_private_room']=1.0*(df.dim_room_type == 'Private room')\n",
    "    df['bool_verified']=1.0*((df.ts_interaction_first > df.ts_first_verified_x)&(~pd.isnull(df.ts_first_verified_x)))\n",
    "    \n",
    "    # relative popularity of listing, time\n",
    "    df['listing']=df.listing_deviance.fillna(0)\n",
    "    df['time']=df.time_deviance.fillna(0)\n",
    "    \n",
    "    # month of first interaction\n",
    "    df['int_month_interaction']=df.ts_interaction_first.dt.month\n",
    "    \n",
    "    # logarithms of numerical features, with limits for free forms\n",
    "    df['log_rvws']=np.log1p(df.dim_total_reviews)\n",
    "    df['log_first_msg']=np.log1p(df.m_first_message_length_in_characters.apply(lambda x: min(x,1000)))\n",
    "    df['log_num_reqs_sent']=np.log1p(df.num_reqs_sent.fillna(1))\n",
    "    df['log_guests_first']= np.log1p(df.m_guests_first.fillna(2))\n",
    "    df['log_length_of_stay']=np.log1p((df.ds_checkout_first-df.ds_checkin_first).apply(lambda x: min(x.days,30)))\n",
    "    \n",
    "    output_cats = ['bool_book_it','bool_match_language','bool_match_country',\n",
    "                  'bool_last_min','bool_home','bool_private_room','bool_verified',\n",
    "                   'log_rvws','listing','time',\n",
    "                  'log_first_msg','log_num_reqs_sent','log_guests_first','log_length_of_stay']\n",
    "                  #'int_month_interaction','int_month_booking']\n",
    "    return df[output_cats]"
   ]
  },
  {
   "cell_type": "code",
   "execution_count": 25,
   "metadata": {
    "collapsed": false,
    "scrolled": false
   },
   "outputs": [
    {
     "name": "stderr",
     "output_type": "stream",
     "text": [
      "/Users/Mikebo/miniconda2/lib/python2.7/site-packages/ipykernel/__main__.py:32: SettingWithCopyWarning: \n",
      "A value is trying to be set on a copy of a slice from a DataFrame.\n",
      "Try using .loc[row_indexer,col_indexer] = value instead\n",
      "\n",
      "See the caveats in the documentation: http://pandas.pydata.org/pandas-docs/stable/indexing.html#indexing-view-versus-copy\n"
     ]
    },
    {
     "name": "stdout",
     "output_type": "stream",
     "text": [
      "0.850878768441\n",
      "0.841133004926\n"
     ]
    },
    {
     "data": {
      "image/png": "[encoded data removed]",
      "text/plain": [
       "<matplotlib.figure.Figure at 0x10cc5aa50>"
      ]
     },
     "metadata": {},
     "output_type": "display_data"
    }
   ],
   "source": [
    "#apply transformations\n",
    "x_train_=transform_(x_train)\n",
    "x_test_=transform_(x_test)\n",
    "\n",
    "# OHE replaced by making difference from means/month a factor\n",
    "#m=x_train_.shape[1]\n",
    "#enc=OneHotEncoder(categorical_features=[m-2,m-1],\n",
    "#    handle_unknown='error', n_values='auto', sparse=False)\n",
    "\n",
    "poly = PolynomialFeatures()\n",
    "\n",
    "model = Pipeline([\n",
    "  #('enc',enc),\n",
    "    #('ss',StandardScaler()),\n",
    "  #('poly',poly),\n",
    "    #('clf',LogisticRegression(C=.01,penalty='l1'))\n",
    "  ('clf', RandomForestClassifier(n_estimators=100,min_samples_leaf=50))\n",
    "])\n",
    "\n",
    "# cross-validation...if I had more time gridsearchcv on (l1,l2),C\n",
    "# Logistic Regression > RF for ease of interpretability\n",
    "\n",
    "#fit and score model\n",
    "model.fit(x_train_,y_train)\n",
    "print model.score(x_train_,y_train)\n",
    "print model.score(x_test_,y_test)\n",
    "plot_roc(y_test,model.predict_proba(x_test_)[:,1])\n",
    "\n"
   ]
  },
  {
   "cell_type": "code",
   "execution_count": 18,
   "metadata": {
    "collapsed": false
   },
   "outputs": [
    {
     "name": "stdout",
     "output_type": "stream",
     "text": [
      "Optimization terminated successfully.    (Exit mode 0)\n",
      "            Current function value: 0.356004255405\n",
      "            Iterations: 1010\n",
      "            Function evaluations: 1013\n",
      "            Gradient evaluations: 1010\n",
      "QC check did not pass for 65 out of 120 parameters\n",
      "Try increasing solver accuracy or number of iterations, decreasing alpha, or switch solvers\n",
      "Could not trim params automatically due to failed QC check.  Trimming using trim_mode == 'size' will still work.\n"
     ]
    }
   ],
   "source": [
    "#use statsmodels to get confidence bands for LR\n",
    "import statsmodels.discrete.discrete_model as sm\n",
    "\n",
    "pipe = Pipeline([\n",
    "    ('ss',StandardScaler()),\n",
    "      ('poly',poly)\n",
    "])\n",
    "\n",
    "\n",
    "target_feature_names = ['x'.join(['{}^{}'.format(pair[0],pair[1]) for pair in tuple if pair[1]!=0]) for tuple in [zip(x_train_.columns,p) for p in poly.powers_]]\n",
    "x=pd.DataFrame(data= pipe.fit_transform(x_train_,y_train),columns = target_feature_names)\n",
    "\n",
    "\n",
    "y=y_train\n",
    "logit = sm.Logit(y_train.values,x)\n",
    "\n",
    "alpha =0.01\n",
    "L1_wt =1\n",
    "\n",
    "# fit the model\n",
    "result = logit.fit_regularized(maxiter=10000, \n",
    "                               tol=1e-4, \n",
    "                               alpha=alpha, \n",
    "                               L1_wt=L1_wt, random_state =42)\n"
   ]
  },
  {
   "cell_type": "code",
   "execution_count": 19,
   "metadata": {
    "collapsed": false
   },
   "outputs": [
    {
     "name": "stdout",
     "output_type": "stream",
     "text": [
      "                           Logit Regression Results                           \n",
      "==============================================================================\n",
      "Dep. Variable:                      y   No. Observations:                38975\n",
      "Model:                          Logit   Df Residuals:                    38855\n",
      "Method:                           MLE   Df Model:                          119\n",
      "Date:                Sun, 02 Apr 2017   Pseudo R-squ.:                  0.3332\n",
      "Time:                        18:32:47   Log-Likelihood:                -13875.\n",
      "converged:                       True   LL-Null:                       -20809.\n",
      "                                        LLR p-value:                     0.000\n",
      "==============================================================================================================\n",
      "                                                 coef    std err          z      P>|z|      [0.025      0.975]\n",
      "--------------------------------------------------------------------------------------------------------------\n",
      "                                              -0.3658        nan        nan        nan         nan         nan\n",
      "bool_book_it^1                                 0.3575        nan        nan        nan         nan         nan\n",
      "bool_match_language^1                          0.1178        nan        nan        nan         nan         nan\n",
      "bool_match_country^1                           0.1403        nan        nan        nan         nan         nan\n",
      "bool_last_min^1                                0.1949   1.39e+05   1.41e-06      1.000   -2.72e+05    2.72e+05\n",
      "bool_home^1                                   -0.0264        nan        nan        nan         nan         nan\n",
      "bool_private_room^1                            0.2243        nan        nan        nan         nan         nan\n",
      "bool_verified^1                                0.0027        nan        nan        nan         nan         nan\n",
      "log_rvws^1                                     0.3913      0.026     14.825      0.000       0.340       0.443\n",
      "listing^1                                      0.7430      0.027     27.335      0.000       0.690       0.796\n",
      "time^1                                         0.0778      0.025      3.161      0.002       0.030       0.126\n",
      "log_first_msg^1                                0.1795      0.032      5.528      0.000       0.116       0.243\n",
      "log_num_reqs_sent^1                           -0.8280      0.034    -24.599      0.000      -0.894      -0.762\n",
      "log_guests_first^1                            -0.0548      0.026     -2.097      0.036      -0.106      -0.004\n",
      "log_length_of_stay^1                          -0.0273      0.027     -1.010      0.313      -0.080       0.026\n",
      "bool_book_it^2                                 0.2041        nan        nan        nan         nan         nan\n",
      "bool_book_it^1xbool_match_language^1           0.0603      0.020      2.991      0.003       0.021       0.100\n",
      "bool_book_it^1xbool_match_country^1            0.0383      0.021      1.864      0.062      -0.002       0.079\n",
      "bool_book_it^1xbool_last_min^1                -0.0579      0.017     -3.497      0.000      -0.090      -0.025\n",
      "bool_book_it^1xbool_home^1                     0.0079      0.058      0.135      0.892      -0.107       0.122\n",
      "bool_book_it^1xbool_private_room^1            -0.0336      0.058     -0.582      0.560      -0.147       0.080\n",
      "bool_book_it^1xbool_verified^1                -0.0253      0.015     -1.655      0.098      -0.055       0.005\n",
      "bool_book_it^1xlog_rvws^1                      0.0097      0.021      0.467      0.640      -0.031       0.050\n",
      "bool_book_it^1xlisting^1                       0.2615      0.019     13.862      0.000       0.224       0.298\n",
      "bool_book_it^1xtime^1                          0.0322      0.016      1.984      0.047       0.000       0.064\n",
      "bool_book_it^1xlog_first_msg^1                -0.0399      0.016     -2.458      0.014      -0.072      -0.008\n",
      "bool_book_it^1xlog_num_reqs_sent^1            -0.1651      0.048     -3.444      0.001      -0.259      -0.071\n",
      "bool_book_it^1xlog_guests_first^1             -0.0148      0.019     -0.791      0.429      -0.051       0.022\n",
      "bool_book_it^1xlog_length_of_stay^1            0.0750      0.023      3.229      0.001       0.029       0.121\n",
      "bool_match_language^2                         -0.2737        nan        nan        nan         nan         nan\n",
      "bool_match_language^1xbool_match_country^1     0.0320      0.019      1.679      0.093      -0.005       0.069\n",
      "bool_match_language^1xbool_last_min^1          0.0159      0.021      0.770      0.442      -0.025       0.056\n",
      "bool_match_language^1xbool_home^1             -0.0222      0.074     -0.301      0.764      -0.167       0.122\n",
      "bool_match_language^1xbool_private_room^1     -0.0471      0.073     -0.647      0.517      -0.190       0.095\n",
      "bool_match_language^1xbool_verified^1         -0.0119      0.019     -0.638      0.524      -0.049       0.025\n",
      "bool_match_language^1xlog_rvws^1              -0.0251      0.027     -0.935      0.350      -0.078       0.028\n",
      "bool_match_language^1xlisting^1                0.0193      0.024      0.805      0.421      -0.028       0.066\n",
      "bool_match_language^1xtime^1                  -0.0156      0.020     -0.771      0.441      -0.055       0.024\n",
      "bool_match_language^1xlog_first_msg^1          0.0033      0.020      0.168      0.867      -0.036       0.042\n",
      "bool_match_language^1xlog_num_reqs_sent^1      0.0454      0.030      1.518      0.129      -0.013       0.104\n",
      "bool_match_language^1xlog_guests_first^1      -0.0332      0.023     -1.453      0.146      -0.078       0.012\n",
      "bool_match_language^1xlog_length_of_stay^1    -0.0489      0.024     -2.035      0.042      -0.096      -0.002\n",
      "bool_match_country^2                          -0.2150        nan        nan        nan         nan         nan\n",
      "bool_match_country^1xbool_last_min^1           0.0226      0.020      1.109      0.268      -0.017       0.063\n",
      "bool_match_country^1xbool_home^1               0.0643      0.084      0.765      0.444      -0.100       0.229\n",
      "bool_match_country^1xbool_private_room^1       0.0720      0.083      0.864      0.388      -0.091       0.235\n",
      "bool_match_country^1xbool_verified^1           0.0262      0.018      1.441      0.149      -0.009       0.062\n",
      "bool_match_country^1xlog_rvws^1               -0.0156      0.028     -0.564      0.572      -0.070       0.039\n",
      "bool_match_country^1xlisting^1                 0.0069      0.025      0.277      0.782      -0.042       0.056\n",
      "bool_match_country^1xtime^1                   -0.0050      0.020     -0.247      0.805      -0.045       0.035\n",
      "bool_match_country^1xlog_first_msg^1        4.733e-05      0.020      0.002      0.998      -0.040       0.040\n",
      "bool_match_country^1xlog_num_reqs_sent^1       0.0050      0.031      0.161      0.872      -0.056       0.066\n",
      "bool_match_country^1xlog_guests_first^1        0.0227      0.023      0.973      0.330      -0.023       0.069\n",
      "bool_match_country^1xlog_length_of_stay^1      0.0365      0.024      1.492      0.136      -0.011       0.085\n",
      "bool_last_min^2                               -0.1478   1.43e+05  -1.03e-06      1.000   -2.81e+05    2.81e+05\n",
      "bool_last_min^1xbool_home^1                    0.0424      0.064      0.662      0.508      -0.083       0.168\n",
      "bool_last_min^1xbool_private_room^1            0.0091      0.063      0.143      0.886      -0.115       0.133\n",
      "bool_last_min^1xbool_verified^1                0.0169      0.015      1.104      0.270      -0.013       0.047\n",
      "bool_last_min^1xlog_rvws^1                    -0.0669      0.023     -2.869      0.004      -0.113      -0.021\n",
      "bool_last_min^1xlisting^1                      0.0347      0.021      1.664      0.096      -0.006       0.076\n",
      "bool_last_min^1xtime^1                         0.0020      0.018      0.107      0.915      -0.034       0.038\n",
      "bool_last_min^1xlog_first_msg^1                0.0400      0.016      2.577      0.010       0.010       0.070\n",
      "bool_last_min^1xlog_num_reqs_sent^1            0.0430      0.026      1.675      0.094      -0.007       0.093\n",
      "bool_last_min^1xlog_guests_first^1            -0.0076      0.022     -0.348      0.728      -0.050       0.035\n",
      "bool_last_min^1xlog_length_of_stay^1          -0.0027      0.023     -0.117      0.907      -0.047       0.042\n",
      "bool_home^2                                   -0.3312        nan        nan        nan         nan         nan\n",
      "bool_home^1xbool_private_room^1               -0.0136        nan        nan        nan         nan         nan\n",
      "bool_home^1xbool_verified^1                   -0.0994      0.059     -1.689      0.091      -0.215       0.016\n",
      "bool_home^1xlog_rvws^1                        -0.1111      0.088     -1.269      0.204      -0.283       0.060\n",
      "bool_home^1xlisting^1                         -0.1275      0.152     -0.838      0.402      -0.426       0.171\n",
      "bool_home^1xtime^1                            -0.0065      0.073     -0.090      0.928      -0.149       0.136\n",
      "bool_home^1xlog_first_msg^1                    0.0977      0.065      1.498      0.134      -0.030       0.226\n",
      "bool_home^1xlog_num_reqs_sent^1               -0.1150      0.121     -0.953      0.341      -0.351       0.121\n",
      "bool_home^1xlog_guests_first^1                 0.1117      0.059      1.884      0.060      -0.004       0.228\n",
      "bool_home^1xlog_length_of_stay^1               0.3256      0.111      2.928      0.003       0.108       0.543\n",
      "bool_private_room^2                           -0.2010        nan        nan        nan         nan         nan\n",
      "bool_private_room^1xbool_verified^1           -0.0800      0.058     -1.379      0.168      -0.194       0.034\n",
      "bool_private_room^1xlog_rvws^1                -0.1299      0.087     -1.494      0.135      -0.300       0.041\n",
      "bool_private_room^1xlisting^1                 -0.1042      0.151     -0.689      0.491      -0.400       0.192\n",
      "bool_private_room^1xtime^1                     0.0610      0.072      0.843      0.399      -0.081       0.203\n",
      "bool_private_room^1xlog_first_msg^1            0.0616      0.065      0.953      0.341      -0.065       0.188\n",
      "bool_private_room^1xlog_num_reqs_sent^1       -0.0646      0.120     -0.540      0.589      -0.299       0.170\n",
      "bool_private_room^1xlog_guests_first^1        -0.0254      0.061     -0.418      0.676      -0.144       0.094\n",
      "bool_private_room^1xlog_length_of_stay^1       0.2547      0.110      2.321      0.020       0.040       0.470\n",
      "bool_verified^2                               -0.0023        nan        nan        nan         nan         nan\n",
      "bool_verified^1xlog_rvws^1                    -0.0286      0.023     -1.270      0.204      -0.073       0.016\n",
      "bool_verified^1xlisting^1                      0.0159      0.021      0.749      0.454      -0.026       0.057\n",
      "bool_verified^1xtime^1                        -0.0123      0.014     -0.877      0.380      -0.040       0.015\n",
      "bool_verified^1xlog_first_msg^1               -0.0046      0.013     -0.341      0.733      -0.031       0.022\n",
      "bool_verified^1xlog_num_reqs_sent^1           -0.0029      0.024     -0.118      0.906      -0.050       0.045\n",
      "bool_verified^1xlog_guests_first^1            -0.0025      0.020     -0.126      0.900      -0.042       0.037\n",
      "bool_verified^1xlog_length_of_stay^1           0.0204      0.021      0.962      0.336      -0.021       0.062\n",
      "log_rvws^2                                    -0.2743      0.025    -10.790      0.000      -0.324      -0.224\n",
      "log_rvws^1xlisting^1                          -0.1977      0.032     -6.252      0.000      -0.260      -0.136\n",
      "log_rvws^1xtime^1                             -0.0286      0.023     -1.220      0.222      -0.075       0.017\n",
      "log_rvws^1xlog_first_msg^1                    -0.0239      0.019     -1.243      0.214      -0.062       0.014\n",
      "log_rvws^1xlog_num_reqs_sent^1                -0.0921      0.036     -2.580      0.010      -0.162      -0.022\n",
      "log_rvws^1xlog_guests_first^1                  0.0169      0.025      0.668      0.504      -0.033       0.066\n",
      "log_rvws^1xlog_length_of_stay^1               -0.0925      0.029     -3.238      0.001      -0.148      -0.037\n",
      "listing^2                                     -0.1649      0.017     -9.515      0.000      -0.199      -0.131\n",
      "listing^1xtime^1                              -0.0250      0.020     -1.261      0.207      -0.064       0.014\n",
      "listing^1xlog_first_msg^1                      0.0510      0.018      2.826      0.005       0.016       0.086\n",
      "listing^1xlog_num_reqs_sent^1                  0.0105      0.031      0.334      0.738      -0.051       0.072\n",
      "listing^1xlog_guests_first^1                   0.0126      0.021      0.612      0.541      -0.028       0.053\n",
      "listing^1xlog_length_of_stay^1                -0.0309      0.026     -1.210      0.226      -0.081       0.019\n",
      "time^2                                        -0.0180      0.018     -1.011      0.312      -0.053       0.017\n",
      "time^1xlog_first_msg^1                         0.0161      0.016      1.032      0.302      -0.014       0.047\n",
      "time^1xlog_num_reqs_sent^1                    -0.0977      0.026     -3.822      0.000      -0.148      -0.048\n",
      "time^1xlog_guests_first^1                      0.0510      0.018      2.772      0.006       0.015       0.087\n",
      "time^1xlog_length_of_stay^1                    0.0048      0.023      0.207      0.836      -0.040       0.050\n",
      "log_first_msg^2                                0.0302      0.009      3.339      0.001       0.012       0.048\n",
      "log_first_msg^1xlog_num_reqs_sent^1           -0.0945      0.032     -2.985      0.003      -0.157      -0.032\n",
      "log_first_msg^1xlog_guests_first^1            -0.0071      0.018     -0.395      0.693      -0.042       0.028\n",
      "log_first_msg^1xlog_length_of_stay^1          -0.0034      0.022     -0.152      0.879      -0.047       0.040\n",
      "log_num_reqs_sent^2                            0.0333      0.025      1.346      0.178      -0.015       0.082\n",
      "log_num_reqs_sent^1xlog_guests_first^1         0.0617      0.030      2.070      0.038       0.003       0.120\n",
      "log_num_reqs_sent^1xlog_length_of_stay^1       0.0435      0.032      1.378      0.168      -0.018       0.105\n",
      "log_guests_first^2                            -0.0414      0.014     -2.870      0.004      -0.070      -0.013\n",
      "log_guests_first^1xlog_length_of_stay^1       -0.0390      0.027     -1.453      0.146      -0.092       0.014\n",
      "log_length_of_stay^2                          -0.1607      0.020     -7.927      0.000      -0.200      -0.121\n",
      "==============================================================================================================\n"
     ]
    }
   ],
   "source": [
    "#book_it,log_rvws,listing,log_first_msg,log_num_reqs_sent\n",
    "print(result.summary())"
   ]
  },
  {
   "cell_type": "code",
   "execution_count": 20,
   "metadata": {
    "collapsed": false
   },
   "outputs": [
    {
     "name": "stdout",
     "output_type": "stream",
     "text": [
      "\n",
      "Significant Coefficients\n"
     ]
    },
    {
     "data": {
      "text/html": [
       "<div>\n",
       "<table border=\"1\" class=\"dataframe\">\n",
       "  <thead>\n",
       "    <tr style=\"text-align: right;\">\n",
       "      <th></th>\n",
       "      <th>coef</th>\n",
       "      <th>lb</th>\n",
       "      <th>ub</th>\n",
       "      <th>p</th>\n",
       "    </tr>\n",
       "  </thead>\n",
       "  <tbody>\n",
       "    <tr>\n",
       "      <th>log_rvws^1</th>\n",
       "      <td>0.391311</td>\n",
       "      <td>0.339576</td>\n",
       "      <td>0.443046</td>\n",
       "      <td>1.013175e-49</td>\n",
       "    </tr>\n",
       "    <tr>\n",
       "      <th>listing^1</th>\n",
       "      <td>0.742989</td>\n",
       "      <td>0.689716</td>\n",
       "      <td>0.796262</td>\n",
       "      <td>1.609344e-164</td>\n",
       "    </tr>\n",
       "    <tr>\n",
       "      <th>log_first_msg^1</th>\n",
       "      <td>0.179512</td>\n",
       "      <td>0.115864</td>\n",
       "      <td>0.243160</td>\n",
       "      <td>3.241070e-08</td>\n",
       "    </tr>\n",
       "    <tr>\n",
       "      <th>log_num_reqs_sent^1</th>\n",
       "      <td>-0.827962</td>\n",
       "      <td>-0.893929</td>\n",
       "      <td>-0.761994</td>\n",
       "      <td>1.279452e-133</td>\n",
       "    </tr>\n",
       "    <tr>\n",
       "      <th>bool_book_it^1xlisting^1</th>\n",
       "      <td>0.261458</td>\n",
       "      <td>0.224490</td>\n",
       "      <td>0.298427</td>\n",
       "      <td>1.078041e-43</td>\n",
       "    </tr>\n",
       "    <tr>\n",
       "      <th>bool_book_it^1xlog_num_reqs_sent^1</th>\n",
       "      <td>-0.165131</td>\n",
       "      <td>-0.259100</td>\n",
       "      <td>-0.071163</td>\n",
       "      <td>5.726282e-04</td>\n",
       "    </tr>\n",
       "    <tr>\n",
       "      <th>bool_home^1xlog_length_of_stay^1</th>\n",
       "      <td>0.325567</td>\n",
       "      <td>0.107642</td>\n",
       "      <td>0.543493</td>\n",
       "      <td>3.410807e-03</td>\n",
       "    </tr>\n",
       "    <tr>\n",
       "      <th>bool_private_room^1xlog_length_of_stay^1</th>\n",
       "      <td>0.254736</td>\n",
       "      <td>0.039579</td>\n",
       "      <td>0.469893</td>\n",
       "      <td>2.031360e-02</td>\n",
       "    </tr>\n",
       "    <tr>\n",
       "      <th>log_rvws^2</th>\n",
       "      <td>-0.274272</td>\n",
       "      <td>-0.324093</td>\n",
       "      <td>-0.224451</td>\n",
       "      <td>3.842347e-27</td>\n",
       "    </tr>\n",
       "    <tr>\n",
       "      <th>log_rvws^1xlisting^1</th>\n",
       "      <td>-0.197660</td>\n",
       "      <td>-0.259626</td>\n",
       "      <td>-0.135693</td>\n",
       "      <td>4.056109e-10</td>\n",
       "    </tr>\n",
       "    <tr>\n",
       "      <th>listing^2</th>\n",
       "      <td>-0.164888</td>\n",
       "      <td>-0.198854</td>\n",
       "      <td>-0.130922</td>\n",
       "      <td>1.824093e-21</td>\n",
       "    </tr>\n",
       "    <tr>\n",
       "      <th>log_length_of_stay^2</th>\n",
       "      <td>-0.160683</td>\n",
       "      <td>-0.200414</td>\n",
       "      <td>-0.120953</td>\n",
       "      <td>2.249152e-15</td>\n",
       "    </tr>\n",
       "  </tbody>\n",
       "</table>\n",
       "</div>"
      ],
      "text/plain": [
       "                                              coef        lb        ub  \\\n",
       "log_rvws^1                                0.391311  0.339576  0.443046   \n",
       "listing^1                                 0.742989  0.689716  0.796262   \n",
       "log_first_msg^1                           0.179512  0.115864  0.243160   \n",
       "log_num_reqs_sent^1                      -0.827962 -0.893929 -0.761994   \n",
       "bool_book_it^1xlisting^1                  0.261458  0.224490  0.298427   \n",
       "bool_book_it^1xlog_num_reqs_sent^1       -0.165131 -0.259100 -0.071163   \n",
       "bool_home^1xlog_length_of_stay^1          0.325567  0.107642  0.543493   \n",
       "bool_private_room^1xlog_length_of_stay^1  0.254736  0.039579  0.469893   \n",
       "log_rvws^2                               -0.274272 -0.324093 -0.224451   \n",
       "log_rvws^1xlisting^1                     -0.197660 -0.259626 -0.135693   \n",
       "listing^2                                -0.164888 -0.198854 -0.130922   \n",
       "log_length_of_stay^2                     -0.160683 -0.200414 -0.120953   \n",
       "\n",
       "                                                      p  \n",
       "log_rvws^1                                 1.013175e-49  \n",
       "listing^1                                 1.609344e-164  \n",
       "log_first_msg^1                            3.241070e-08  \n",
       "log_num_reqs_sent^1                       1.279452e-133  \n",
       "bool_book_it^1xlisting^1                   1.078041e-43  \n",
       "bool_book_it^1xlog_num_reqs_sent^1         5.726282e-04  \n",
       "bool_home^1xlog_length_of_stay^1           3.410807e-03  \n",
       "bool_private_room^1xlog_length_of_stay^1   2.031360e-02  \n",
       "log_rvws^2                                 3.842347e-27  \n",
       "log_rvws^1xlisting^1                       4.056109e-10  \n",
       "listing^2                                  1.824093e-21  \n",
       "log_length_of_stay^2                       2.249152e-15  "
      ]
     },
     "execution_count": 20,
     "metadata": {},
     "output_type": "execute_result"
    }
   ],
   "source": [
    "# significant factors\n",
    "sigfacs = (result.pvalues<.05) & (abs(result.params.values)>.1)\n",
    "sig_model=pd.concat([result.params[sigfacs],result.conf_int()[sigfacs],result.pvalues[sigfacs]],axis=1)\n",
    "sig_model.columns = ['coef','lb','ub','p']\n",
    "print \n",
    "print 'Significant Coefficients'\n",
    "sig_model"
   ]
  },
  {
   "cell_type": "markdown",
   "metadata": {},
   "source": [
    "## Appendix: Exploratory Analysis"
   ]
  },
  {
   "cell_type": "code",
   "execution_count": 21,
   "metadata": {
    "collapsed": false
   },
   "outputs": [
    {
     "data": {
      "text/plain": [
       "<matplotlib.text.Text at 0x10edbcb10>"
      ]
     },
     "execution_count": 21,
     "metadata": {},
     "output_type": "execute_result"
    },
    {
     "data": {
      "image/png": "[encoded data removed]",
      "text/plain": [
       "<matplotlib.figure.Figure at 0x10b282150>"
      ]
     },
     "metadata": {},
     "output_type": "display_data"
    }
   ],
   "source": [
    "# explore booking vs reviews, seems to be logarithmic increase\n",
    "pd.concat([x_train.dim_total_reviews,y_train],axis=1).groupby(x_train.dim_total_reviews//5).agg({0:np.mean}).plot()\n",
    "plt.title('booking rate v total reviews(/5 for easy bucketing)')"
   ]
  },
  {
   "cell_type": "code",
   "execution_count": 22,
   "metadata": {
    "collapsed": false
   },
   "outputs": [
    {
     "data": {
      "text/plain": [
       "<matplotlib.text.Text at 0x10eea6210>"
      ]
     },
     "execution_count": 22,
     "metadata": {},
     "output_type": "execute_result"
    },
    {
     "data": {
      "image/png": "[encoded data removed]",
      "text/plain": [
       "<matplotlib.figure.Figure at 0x10cf2bb90>"
      ]
     },
     "metadata": {},
     "output_type": "display_data"
    }
   ],
   "source": [
    "# create length of first msg vs acceptance rate graph\n",
    "bins = [0, 140, 250,350,450,550,650,750,850,1000, 10000]\n",
    "group_names = ['<'+str(i) for i in bins[1:]]\n",
    "contacts['categories'] = pd.cut(contacts.m_first_message_length_in_characters, bins, labels=group_names)\n",
    "\n",
    "contacts.groupby('categories').agg({'ts_accepted_at_first':{lambda x: np.mean(~pd.isnull(x))}}).reset_index().plot(legend=False)\n",
    "plt.xticks(range(len(group_names)),group_names);\n",
    "plt.xlabel('length of first message')\n",
    "plt.ylabel('acceptance rate')\n",
    "plt.title('length of first msg vs acceptance rate (single messagers only)')\n"
   ]
  },
  {
   "cell_type": "code",
   "execution_count": 23,
   "metadata": {
    "collapsed": false
   },
   "outputs": [
    {
     "data": {
      "text/plain": [
       "<matplotlib.text.Text at 0x10ee5db90>"
      ]
     },
     "execution_count": 23,
     "metadata": {},
     "output_type": "execute_result"
    },
    {
     "data": {
      "image/png": "[encoded data removed]",
      "text/plain": [
       "<matplotlib.figure.Figure at 0x10ed9a9d0>"
      ]
     },
     "metadata": {},
     "output_type": "display_data"
    }
   ],
   "source": [
    "# distribution of attempts per trip\n",
    "x=x_train.groupby(['id_guest_anon','ds_checkin_first']).count().reset_index()\n",
    "x[x.id_host_anon<20].id_host_anon.hist(bins=20)\n",
    "plt.title('# of hosts contacted for trip')\n",
    "plt.ylabel('# trips')\n",
    "plt.xlabel('# hosts contacted')"
   ]
  },
  {
   "cell_type": "code",
   "execution_count": 24,
   "metadata": {
    "collapsed": false
   },
   "outputs": [
    {
     "data": {
      "text/plain": [
       "<matplotlib.text.Text at 0x10f290450>"
      ]
     },
     "execution_count": 24,
     "metadata": {},
     "output_type": "execute_result"
    },
    {
     "data": {
      "image/png": "[encoded data removed]",
      "text/plain": [
       "<matplotlib.figure.Figure at 0x10b26d850>"
      ]
     },
     "metadata": {},
     "output_type": "display_data"
    }
   ],
   "source": [
    "#check for seasonality, in booking rate\n",
    "pd.concat([x_train['ds_checkin_first'],y_train],axis=1).groupby(x_train['ds_checkin_first'].dt.month).mean().plot()\n",
    "plt.title('booking rate by month of check in')"
   ]
  },
  {
   "cell_type": "code",
   "execution_count": null,
   "metadata": {
    "collapsed": true
   },
   "outputs": [],
   "source": []
  }
 ],
 "metadata": {
  "kernelspec": {
   "display_name": "Python 2",
   "language": "python",
   "name": "python2"
  },
  "language_info": {
   "codemirror_mode": {
    "name": "ipython",
    "version": 2
   },
   "file_extension": ".py",
   "mimetype": "text/x-python",
   "name": "python",
   "nbconvert_exporter": "python",
   "pygments_lexer": "ipython2",
   "version": "2.7.11"
  }
 },
 "nbformat": 4,
 "nbformat_minor": 0
}
